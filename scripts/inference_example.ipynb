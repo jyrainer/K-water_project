{
 "cells": [
  {
   "cell_type": "code",
   "execution_count": 3,
   "metadata": {},
   "outputs": [
    {
     "name": "stderr",
     "output_type": "stream",
     "text": [
      "c:\\Users\\admin\\anaconda3\\envs\\k_public\\lib\\site-packages\\tqdm\\auto.py:21: TqdmWarning: IProgress not found. Please update jupyter and ipywidgets. See https://ipywidgets.readthedocs.io/en/stable/user_install.html\n",
      "  from .autonotebook import tqdm as notebook_tqdm\n"
     ]
    }
   ],
   "source": [
    "from waffle_hub.dataset import Dataset\n",
    "from waffle_hub.hub import Hub\n",
    "from waffle_utils.file import io"
   ]
  },
  {
   "cell_type": "code",
   "execution_count": 7,
   "metadata": {},
   "outputs": [
    {
     "data": {
      "text/plain": [
       "True"
      ]
     },
     "execution_count": 7,
     "metadata": {},
     "output_type": "execute_result"
    }
   ],
   "source": [
    "# torch avail check\n",
    "import torch\n",
    "torch.cuda.is_available()"
   ]
  },
  {
   "cell_type": "code",
   "execution_count": 4,
   "metadata": {},
   "outputs": [],
   "source": [
    "# 학습된 hub를 불러옵니다.\n",
    "hub = Hub.load(name = \"k_project_v2.0.0\")"
   ]
  },
  {
   "cell_type": "code",
   "execution_count": 23,
   "metadata": {},
   "outputs": [
    {
     "name": "stderr",
     "output_type": "stream",
     "text": [
      "100%|██████████| 2/2 [00:00<00:00,  3.36it/s]\n"
     ]
    },
    {
     "data": {
      "text/plain": [
       "InferenceResult(predictions=[{'test_1200.png': []}, {'test_7007.png': [{'category_id': 2, 'bbox': [0, 82.34072875976562, 258.0581359863281, 114.78506469726562], 'area': 29621.219834846444, 'iscrowd': 0, 'score': 0.8501087427139282}]}, {'test_8006.png': []}, {'test_8007.png': [{'category_id': 6, 'bbox': [0, 158.2315673828125, 351.9751281738281, 169.5797119140625], 'area': 59687.840836633, 'iscrowd': 0, 'score': 0.7087032794952393}]}, {'test_9200.png': []}, {'test_12000.png': []}, {'test_12001.png': []}, {'test_12009.png': []}], draw_dir=None)"
      ]
     },
     "execution_count": 23,
     "metadata": {},
     "output_type": "execute_result"
    }
   ],
   "source": [
    "# 이미지에 대한 추론을 실시합니다. 참고로 test 폴더 내에 잡힐 객체가 없어서 임의로 train 데이터 중 객체가 있는 것을 2개 넣어두었습니다.\n",
    "# 우부툰 및 윈도우에서 정상 동작 확인\n",
    "hub.inference(source = 'datasets/k_project_raw_dataset/test',confidence_threshold = 0.25, iou_threshold = 0.5)"
   ]
  },
  {
   "cell_type": "code",
   "execution_count": 5,
   "metadata": {},
   "outputs": [],
   "source": [
    "# 실제 답안지와 같은 방식으로 후처리를 진행합니다.\n",
    "# 성능이 변화되지 않으며 단순히 coco annotation format으로 변환됩니다.\n",
    "from waffle_utils.file import io\n",
    "\n",
    "inference_json_path = './hubs/k_project_v2.0.0/inferences/inferences.json'      # 인퍼런스 결과 파일이 입력\n",
    "answer_json_path = './datasets/k_project_raw_dataset/labels/answer_sample.json'\n",
    "\n",
    "\n",
    "inference_json = io.load_json(inference_json_path)\n",
    "answer_json = io.load_json(answer_json_path)\n",
    "\n",
    "\n",
    "# 키 : 이미지 파일 이름, 값 : 이미지 아이디\n",
    "images_id_filename_dict = {}\n",
    "anns_dict = {}\n",
    "anns_list = []\n",
    "# 삽입\n",
    "for answer_id in answer_json[\"images\"] :\n",
    "    k, v = answer_id['file_name'], answer_id['id']\n",
    "    images_id_filename_dict[k] = v\n",
    "\n",
    "anns_count = 0\n",
    "# inference.json 순회\n",
    "for infer in inference_json :\n",
    "    if list(infer.values())[0] == []:\n",
    "        continue        # 답 없을때 그냥 컨티뉴\n",
    "    else:\n",
    "        for anns in list(infer.values())[0]:\n",
    "            anns_id = int(anns_count)\n",
    "            image_id = int(images_id_filename_dict[list(infer.keys())[0]])\n",
    "            category_id = int(anns[\"category_id\"])\n",
    "            area = float(anns['bbox'][2]*anns['bbox'][3])\n",
    "            bbox = anns['bbox']\n",
    "            anns_dict = {\n",
    "                \"id\": anns_id,\n",
    "                \"image_id\": image_id,\n",
    "                \"category_id\": category_id - 1,\n",
    "                \"segmentation\": [],\n",
    "                \"area\": area,\n",
    "                \"bbox\": bbox,\n",
    "                \"iscrowd\": 0,\n",
    "                \"attributes\": {\n",
    "                    \"occluded\": None,\n",
    "                    \"rotation\": 0.0\n",
    "                }\n",
    "            }\n",
    "            anns_list.append(anns_dict)\n",
    "            anns_count += 1\n",
    "            \n",
    "            \n",
    "answer_json['annotations'] = anns_list\n",
    "\n",
    "#출력이 저장될 부분. 해당 파일을 답지로 제출하였습니다.\n",
    "result_path = './answer.json'\n",
    "io.save_json(answer_json,result_path)"
   ]
  },
  {
   "cell_type": "code",
   "execution_count": 9,
   "metadata": {},
   "outputs": [
    {
     "name": "stdout",
     "output_type": "stream",
     "text": [
      "{'id': 0, 'image_id': 23598, 'category_id': 1, 'segmentation': [], 'area': 29621.219834846444, 'bbox': [0, 82.34072875976562, 258.0581359863281, 114.78506469726562], 'iscrowd': 0, 'attributes': {'occluded': None, 'rotation': 0.0}}\n",
      "{'id': 1, 'image_id': 27082, 'category_id': 5, 'segmentation': [], 'area': 59687.840836633, 'bbox': [0, 158.2315673828125, 351.9751281738281, 169.5797119140625], 'iscrowd': 0, 'attributes': {'occluded': None, 'rotation': 0.0}}\n"
     ]
    }
   ],
   "source": [
    "# 어노테이션의 values 출력\n",
    "for info in anns_list:\n",
    "    print(info)"
   ]
  }
 ],
 "metadata": {
  "kernelspec": {
   "display_name": "k_public",
   "language": "python",
   "name": "python3"
  },
  "language_info": {
   "codemirror_mode": {
    "name": "ipython",
    "version": 3
   },
   "file_extension": ".py",
   "mimetype": "text/x-python",
   "name": "python",
   "nbconvert_exporter": "python",
   "pygments_lexer": "ipython3",
   "version": "3.10.0"
  },
  "orig_nbformat": 4
 },
 "nbformat": 4,
 "nbformat_minor": 2
}
